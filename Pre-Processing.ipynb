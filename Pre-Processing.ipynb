{
 "cells": [
  {
   "cell_type": "code",
   "execution_count": 2,
   "id": "dfbec5ac",
   "metadata": {},
   "outputs": [
    {
     "name": "stdout",
     "output_type": "stream",
     "text": [
      "   Unnamed: 0  Clothing ID  Age                    Title  \\\n",
      "0           0          767   33                      NaN   \n",
      "1           1         1080   34                      NaN   \n",
      "2           2         1077   60  Some major design flaws   \n",
      "3           3         1049   50         My favorite buy!   \n",
      "4           4          847   47         Flattering shirt   \n",
      "\n",
      "                                         Review Text  Rating  Recommended IND  \\\n",
      "0  Absolutely wonderful - silky and sexy and comf...       4                1   \n",
      "1  Love this dress!  it's sooo pretty.  i happene...       5                1   \n",
      "2  I had such high hopes for this dress and reall...       3                0   \n",
      "3  I love, love, love this jumpsuit. it's fun, fl...       5                1   \n",
      "4  This shirt is very flattering to all due to th...       5                1   \n",
      "\n",
      "   Positive Feedback Count   Division Name Department Name Class Name  \n",
      "0                        0       Initmates        Intimate  Intimates  \n",
      "1                        4         General         Dresses    Dresses  \n",
      "2                        0         General         Dresses    Dresses  \n",
      "3                        0  General Petite         Bottoms      Pants  \n",
      "4                        6         General            Tops    Blouses  \n"
     ]
    }
   ],
   "source": [
    "#data pre-processing\n",
    "#import dataset\n",
    "import os\n",
    "import pandas as pd\n",
    "\n",
    "#load dataset\n",
    "file_path = 'Data/Raw/Womens Clothing E-Commerce Reviews.csv'\n",
    "if os.path.exists(file_path):\n",
    "\tdf = pd.read_csv(file_path)\n",
    "\tprint(df.head())\n",
    "else:\n",
    "\tprint(f\"File not found: {file_path}\")"
   ]
  },
  {
   "cell_type": "code",
   "execution_count": 3,
   "id": "a0eff748",
   "metadata": {},
   "outputs": [],
   "source": [
    "# --- Drop Unnecessary Columns ---\n",
    "# The first column is just an index from the original data source. It's redundant.\n",
    "df = df.drop(columns=['Unnamed: 0'])"
   ]
  },
  {
   "cell_type": "code",
   "execution_count": 4,
   "id": "483964c9",
   "metadata": {},
   "outputs": [
    {
     "name": "stdout",
     "output_type": "stream",
     "text": [
      "Original dataset shape: (23486, 10)\n",
      "Shape after dropping missing reviews: (22641, 10)\n"
     ]
    }
   ],
   "source": [
    "# --- Handle Missing Values ---\n",
    "# In our EDA, we found 845 rows where 'Review Text' is missing.\n",
    "# For sentiment analysis and topic modeling, these rows are unusable. So, we remove them.\n",
    "print(f\"Original dataset shape: {df.shape}\")\n",
    "df.dropna(subset=['Review Text'], inplace=True)\n",
    "print(f\"Shape after dropping missing reviews: {df.shape}\")"
   ]
  },
  {
   "cell_type": "code",
   "execution_count": 5,
   "id": "2f85f53a",
   "metadata": {},
   "outputs": [
    {
     "name": "stdout",
     "output_type": "stream",
     "text": [
      "Removed 1 duplicate rows.\n",
      "Final shape after removing duplicates: (22640, 10)\n"
     ]
    }
   ],
   "source": [
    "# --- Handle Duplicates ---\n",
    "# Let's check for and remove any completely duplicate reviews.\n",
    "initial_duplicates = df.duplicated().sum()\n",
    "if initial_duplicates > 0:\n",
    "    df.drop_duplicates(inplace=True)\n",
    "    print(f\"Removed {initial_duplicates} duplicate rows.\")\n",
    "    print(f\"Final shape after removing duplicates: {df.shape}\")\n",
    "else:\n",
    "    print(\"No duplicate rows found.\")"
   ]
  },
  {
   "cell_type": "code",
   "execution_count": 6,
   "id": "2d5f0942",
   "metadata": {},
   "outputs": [],
   "source": [
    "# Resetting the index after dropping rows is good practice.\n",
    "df.reset_index(drop=True, inplace=True)"
   ]
  },
  {
   "cell_type": "code",
   "execution_count": 7,
   "id": "1f1c260d",
   "metadata": {},
   "outputs": [],
   "source": [
    "# --- Create the Sentiment Column ---\n",
    "# We'll map the numerical 'Rating' to categorical 'Sentiment' labels.\n",
    "# This logic is based on our EDA: ratings of 4 and 5 are overwhelmingly positive,\n",
    "# 3 is neutral, and 1 and 2 are negative.\n",
    "def map_sentiment(rating):\n",
    "    if rating in [4, 5]:\n",
    "        return 'positive'\n",
    "    elif rating == 3:\n",
    "        return 'neutral'\n",
    "    else:\n",
    "        return 'negative'\n",
    "\n",
    "df['Sentiment'] = df['Rating'].apply(map_sentiment)"
   ]
  },
  {
   "cell_type": "code",
   "execution_count": 8,
   "id": "f8ed7deb",
   "metadata": {},
   "outputs": [
    {
     "name": "stdout",
     "output_type": "stream",
     "text": [
      "Downloading necessary NLTK data...\n",
      "Downloads complete.\n",
      "\n",
      "Applying text preprocessing pipeline...\n"
     ]
    },
    {
     "name": "stderr",
     "output_type": "stream",
     "text": [
      "[nltk_data] Downloading package punkt to\n",
      "[nltk_data]     /Users/huzaifamahmood/nltk_data...\n",
      "[nltk_data]   Package punkt is already up-to-date!\n",
      "[nltk_data] Downloading package punkt_tab to\n",
      "[nltk_data]     /Users/huzaifamahmood/nltk_data...\n",
      "[nltk_data]   Package punkt_tab is already up-to-date!\n",
      "[nltk_data] Downloading package stopwords to\n",
      "[nltk_data]     /Users/huzaifamahmood/nltk_data...\n",
      "[nltk_data]   Package stopwords is already up-to-date!\n",
      "[nltk_data] Downloading package wordnet to\n",
      "[nltk_data]     /Users/huzaifamahmood/nltk_data...\n",
      "[nltk_data]   Package wordnet is already up-to-date!\n"
     ]
    },
    {
     "name": "stdout",
     "output_type": "stream",
     "text": [
      "Preprocessing complete.\n",
      "\n",
      "Original vs. Processed Text:\n"
     ]
    },
    {
     "data": {
      "text/html": [
       "<div>\n",
       "<style scoped>\n",
       "    .dataframe tbody tr th:only-of-type {\n",
       "        vertical-align: middle;\n",
       "    }\n",
       "\n",
       "    .dataframe tbody tr th {\n",
       "        vertical-align: top;\n",
       "    }\n",
       "\n",
       "    .dataframe thead th {\n",
       "        text-align: right;\n",
       "    }\n",
       "</style>\n",
       "<table border=\"1\" class=\"dataframe\">\n",
       "  <thead>\n",
       "    <tr style=\"text-align: right;\">\n",
       "      <th></th>\n",
       "      <th>Review Text</th>\n",
       "      <th>processed_text</th>\n",
       "    </tr>\n",
       "  </thead>\n",
       "  <tbody>\n",
       "    <tr>\n",
       "      <th>0</th>\n",
       "      <td>Absolutely wonderful - silky and sexy and comf...</td>\n",
       "      <td>absolutely wonderful silky sexy comfortable</td>\n",
       "    </tr>\n",
       "    <tr>\n",
       "      <th>1</th>\n",
       "      <td>Love this dress!  it's sooo pretty.  i happene...</td>\n",
       "      <td>love sooo pretty happened find store glad neve...</td>\n",
       "    </tr>\n",
       "    <tr>\n",
       "      <th>2</th>\n",
       "      <td>I had such high hopes for this dress and reall...</td>\n",
       "      <td>high hope really wanted work initially ordered...</td>\n",
       "    </tr>\n",
       "    <tr>\n",
       "      <th>3</th>\n",
       "      <td>I love, love, love this jumpsuit. it's fun, fl...</td>\n",
       "      <td>love love love jumpsuit fun flirty fabulous ev...</td>\n",
       "    </tr>\n",
       "    <tr>\n",
       "      <th>4</th>\n",
       "      <td>This shirt is very flattering to all due to th...</td>\n",
       "      <td>flattering due adjustable front tie perfect le...</td>\n",
       "    </tr>\n",
       "  </tbody>\n",
       "</table>\n",
       "</div>"
      ],
      "text/plain": [
       "                                         Review Text  \\\n",
       "0  Absolutely wonderful - silky and sexy and comf...   \n",
       "1  Love this dress!  it's sooo pretty.  i happene...   \n",
       "2  I had such high hopes for this dress and reall...   \n",
       "3  I love, love, love this jumpsuit. it's fun, fl...   \n",
       "4  This shirt is very flattering to all due to th...   \n",
       "\n",
       "                                      processed_text  \n",
       "0        absolutely wonderful silky sexy comfortable  \n",
       "1  love sooo pretty happened find store glad neve...  \n",
       "2  high hope really wanted work initially ordered...  \n",
       "3  love love love jumpsuit fun flirty fabulous ev...  \n",
       "4  flattering due adjustable front tie perfect le...  "
      ]
     },
     "execution_count": 8,
     "metadata": {},
     "output_type": "execute_result"
    }
   ],
   "source": [
    "#Building the Text Preprocessing Pipeline\n",
    "# --- Download NLTK Resources ---\n",
    "# We only need to do this once. NLTK (Natural Language Toolkit) is a powerful library.\n",
    "# 'punkt' is for tokenization, 'stopwords' for the list of common words,\n",
    "# and 'wordnet' for lemmatization.\n",
    "import nltk\n",
    "import re\n",
    "from nltk.corpus import stopwords\n",
    "from nltk.stem import WordNetLemmatizer\n",
    "from nltk.tokenize import word_tokenize\n",
    "\n",
    "\n",
    "try:\n",
    "    nltk.data.find('tokenizers/punkt')\n",
    "    nltk.data.find('tokenizers/punkt_tab')\n",
    "    nltk.data.find('corpus/stopwords')\n",
    "    nltk.data.find('corpora/wordnet')\n",
    "except LookupError:\n",
    "    print(\"Downloading necessary NLTK data...\")\n",
    "    nltk.download('punkt')\n",
    "    nltk.download('punkt_tab')\n",
    "    nltk.download('stopwords')\n",
    "    nltk.download('wordnet')\n",
    "    print(\"Downloads complete.\")\n",
    "\n",
    "# Initialize the lemmatizer and stopwords list\n",
    "lemmatizer = WordNetLemmatizer()\n",
    "stop_words = set(stopwords.words('english'))\n",
    "\n",
    "# Add domain-specific words to our stopword list based on EDA word clouds\n",
    "# These words are too common in clothing reviews to be useful for topic modeling.\n",
    "custom_stopwords = ['dress', 'top', 'sweater', 'shirt', 'blouse', 'wear', 'color', 'fabric', 'like']\n",
    "stop_words.update(custom_stopwords)\n",
    "\n",
    "\n",
    "def preprocess_text(text):\n",
    "    \"\"\"\n",
    "    A complete text preprocessing pipeline.\n",
    "    - Converts text to lowercase\n",
    "    - Removes punctuation and numbers\n",
    "    - Tokenizes text\n",
    "    - Removes stopwords\n",
    "    - Lemmatizes tokens\n",
    "    \"\"\"\n",
    "    # 1. Lowercasing\n",
    "    text = text.lower()\n",
    "    \n",
    "    # 2. Remove punctuation and numbers using regex\n",
    "    text = re.sub(r'[^a-z\\s]', '', text)\n",
    "    \n",
    "    # 3. Tokenization\n",
    "    tokens = word_tokenize(text)\n",
    "    \n",
    "    # 4. Remove Stopwords & 5. Lemmatization\n",
    "    processed_tokens = [lemmatizer.lemmatize(word) for word in tokens if word not in stop_words and len(word) > 2]\n",
    "    \n",
    "    # 6. Join tokens back into a single string\n",
    "    return \" \".join(processed_tokens)\n",
    "\n",
    "# --- Apply the preprocessing pipeline to our 'Review Text' ---\n",
    "print(\"\\nApplying text preprocessing pipeline...\")\n",
    "df['processed_text'] = df['Review Text'].apply(preprocess_text)\n",
    "print(\"Preprocessing complete.\")\n",
    "\n",
    "# --- Display the results ---\n",
    "print(\"\\nOriginal vs. Processed Text:\")\n",
    "df[['Review Text', 'processed_text']].head()"
   ]
  },
  {
   "cell_type": "code",
   "execution_count": 9,
   "id": "f37cb2dc",
   "metadata": {},
   "outputs": [
    {
     "name": "stdout",
     "output_type": "stream",
     "text": [
      "\n",
      "Final DataFrame ready for modeling:\n"
     ]
    },
    {
     "data": {
      "text/html": [
       "<div>\n",
       "<style scoped>\n",
       "    .dataframe tbody tr th:only-of-type {\n",
       "        vertical-align: middle;\n",
       "    }\n",
       "\n",
       "    .dataframe tbody tr th {\n",
       "        vertical-align: top;\n",
       "    }\n",
       "\n",
       "    .dataframe thead th {\n",
       "        text-align: right;\n",
       "    }\n",
       "</style>\n",
       "<table border=\"1\" class=\"dataframe\">\n",
       "  <thead>\n",
       "    <tr style=\"text-align: right;\">\n",
       "      <th></th>\n",
       "      <th>Review Text</th>\n",
       "      <th>processed_text</th>\n",
       "      <th>Rating</th>\n",
       "      <th>Sentiment</th>\n",
       "    </tr>\n",
       "  </thead>\n",
       "  <tbody>\n",
       "    <tr>\n",
       "      <th>0</th>\n",
       "      <td>Absolutely wonderful - silky and sexy and comf...</td>\n",
       "      <td>absolutely wonderful silky sexy comfortable</td>\n",
       "      <td>4</td>\n",
       "      <td>positive</td>\n",
       "    </tr>\n",
       "    <tr>\n",
       "      <th>1</th>\n",
       "      <td>Love this dress!  it's sooo pretty.  i happene...</td>\n",
       "      <td>love sooo pretty happened find store glad neve...</td>\n",
       "      <td>5</td>\n",
       "      <td>positive</td>\n",
       "    </tr>\n",
       "    <tr>\n",
       "      <th>2</th>\n",
       "      <td>I had such high hopes for this dress and reall...</td>\n",
       "      <td>high hope really wanted work initially ordered...</td>\n",
       "      <td>3</td>\n",
       "      <td>neutral</td>\n",
       "    </tr>\n",
       "    <tr>\n",
       "      <th>3</th>\n",
       "      <td>I love, love, love this jumpsuit. it's fun, fl...</td>\n",
       "      <td>love love love jumpsuit fun flirty fabulous ev...</td>\n",
       "      <td>5</td>\n",
       "      <td>positive</td>\n",
       "    </tr>\n",
       "    <tr>\n",
       "      <th>4</th>\n",
       "      <td>This shirt is very flattering to all due to th...</td>\n",
       "      <td>flattering due adjustable front tie perfect le...</td>\n",
       "      <td>5</td>\n",
       "      <td>positive</td>\n",
       "    </tr>\n",
       "    <tr>\n",
       "      <th>5</th>\n",
       "      <td>I love tracy reese dresses, but this one is no...</td>\n",
       "      <td>love tracy reese dress one petite foot tall us...</td>\n",
       "      <td>2</td>\n",
       "      <td>negative</td>\n",
       "    </tr>\n",
       "    <tr>\n",
       "      <th>6</th>\n",
       "      <td>I aded this in my basket at hte last mintue to...</td>\n",
       "      <td>aded basket hte last mintue see would look per...</td>\n",
       "      <td>5</td>\n",
       "      <td>positive</td>\n",
       "    </tr>\n",
       "    <tr>\n",
       "      <th>7</th>\n",
       "      <td>I ordered this in carbon for store pick up, an...</td>\n",
       "      <td>ordered carbon store pick ton stuff always try...</td>\n",
       "      <td>4</td>\n",
       "      <td>positive</td>\n",
       "    </tr>\n",
       "    <tr>\n",
       "      <th>8</th>\n",
       "      <td>I love this dress. i usually get an xs but it ...</td>\n",
       "      <td>love usually get run little snug bust ordered ...</td>\n",
       "      <td>5</td>\n",
       "      <td>positive</td>\n",
       "    </tr>\n",
       "    <tr>\n",
       "      <th>9</th>\n",
       "      <td>I'm 5\"5' and 125 lbs. i ordered the s petite t...</td>\n",
       "      <td>lb ordered petite make sure length wasnt long ...</td>\n",
       "      <td>5</td>\n",
       "      <td>positive</td>\n",
       "    </tr>\n",
       "  </tbody>\n",
       "</table>\n",
       "</div>"
      ],
      "text/plain": [
       "                                         Review Text  \\\n",
       "0  Absolutely wonderful - silky and sexy and comf...   \n",
       "1  Love this dress!  it's sooo pretty.  i happene...   \n",
       "2  I had such high hopes for this dress and reall...   \n",
       "3  I love, love, love this jumpsuit. it's fun, fl...   \n",
       "4  This shirt is very flattering to all due to th...   \n",
       "5  I love tracy reese dresses, but this one is no...   \n",
       "6  I aded this in my basket at hte last mintue to...   \n",
       "7  I ordered this in carbon for store pick up, an...   \n",
       "8  I love this dress. i usually get an xs but it ...   \n",
       "9  I'm 5\"5' and 125 lbs. i ordered the s petite t...   \n",
       "\n",
       "                                      processed_text  Rating Sentiment  \n",
       "0        absolutely wonderful silky sexy comfortable       4  positive  \n",
       "1  love sooo pretty happened find store glad neve...       5  positive  \n",
       "2  high hope really wanted work initially ordered...       3   neutral  \n",
       "3  love love love jumpsuit fun flirty fabulous ev...       5  positive  \n",
       "4  flattering due adjustable front tie perfect le...       5  positive  \n",
       "5  love tracy reese dress one petite foot tall us...       2  negative  \n",
       "6  aded basket hte last mintue see would look per...       5  positive  \n",
       "7  ordered carbon store pick ton stuff always try...       4  positive  \n",
       "8  love usually get run little snug bust ordered ...       5  positive  \n",
       "9  lb ordered petite make sure length wasnt long ...       5  positive  "
      ]
     },
     "execution_count": 9,
     "metadata": {},
     "output_type": "execute_result"
    }
   ],
   "source": [
    "# Display the final, cleaned DataFrame with our new features\n",
    "print(\"\\nFinal DataFrame ready for modeling:\")\n",
    "df[['Review Text', 'processed_text', 'Rating', 'Sentiment']].head(10)"
   ]
  },
  {
   "cell_type": "code",
   "execution_count": 10,
   "id": "cead687a",
   "metadata": {},
   "outputs": [
    {
     "name": "stdout",
     "output_type": "stream",
     "text": [
      "Successfully created 'age_group' feature.\n"
     ]
    },
    {
     "data": {
      "text/html": [
       "<div>\n",
       "<style scoped>\n",
       "    .dataframe tbody tr th:only-of-type {\n",
       "        vertical-align: middle;\n",
       "    }\n",
       "\n",
       "    .dataframe tbody tr th {\n",
       "        vertical-align: top;\n",
       "    }\n",
       "\n",
       "    .dataframe thead th {\n",
       "        text-align: right;\n",
       "    }\n",
       "</style>\n",
       "<table border=\"1\" class=\"dataframe\">\n",
       "  <thead>\n",
       "    <tr style=\"text-align: right;\">\n",
       "      <th></th>\n",
       "      <th>Age</th>\n",
       "      <th>age_group</th>\n",
       "    </tr>\n",
       "  </thead>\n",
       "  <tbody>\n",
       "    <tr>\n",
       "      <th>0</th>\n",
       "      <td>33</td>\n",
       "      <td>30-39</td>\n",
       "    </tr>\n",
       "    <tr>\n",
       "      <th>1</th>\n",
       "      <td>34</td>\n",
       "      <td>30-39</td>\n",
       "    </tr>\n",
       "    <tr>\n",
       "      <th>2</th>\n",
       "      <td>60</td>\n",
       "      <td>60-69</td>\n",
       "    </tr>\n",
       "    <tr>\n",
       "      <th>3</th>\n",
       "      <td>50</td>\n",
       "      <td>50-59</td>\n",
       "    </tr>\n",
       "    <tr>\n",
       "      <th>4</th>\n",
       "      <td>47</td>\n",
       "      <td>40-49</td>\n",
       "    </tr>\n",
       "  </tbody>\n",
       "</table>\n",
       "</div>"
      ],
      "text/plain": [
       "   Age age_group\n",
       "0   33     30-39\n",
       "1   34     30-39\n",
       "2   60     60-69\n",
       "3   50     50-59\n",
       "4   47     40-49"
      ]
     },
     "execution_count": 10,
     "metadata": {},
     "output_type": "execute_result"
    }
   ],
   "source": [
    "#Feature Engineering\n",
    "#Age Groups\n",
    "age_bins = [0, 29, 39, 49, 59, 69, 100]\n",
    "age_labels = ['18-29', '30-39', '40-49', '50-59', '60-69', '70+']\n",
    "\n",
    "# Create the 'age_group' column using pandas.cut()\n",
    "df['age_group'] = pd.cut(df['Age'], bins=age_bins, labels=age_labels, right=False)\n",
    "\n",
    "# Display the result\n",
    "print(\"Successfully created 'age_group' feature.\")\n",
    "df[['Age', 'age_group']].head()"
   ]
  },
  {
   "cell_type": "code",
   "execution_count": 11,
   "id": "f5d80362",
   "metadata": {},
   "outputs": [
    {
     "name": "stdout",
     "output_type": "stream",
     "text": [
      "TF-IDF matrix created successfully.\n",
      "Shape of the TF-IDF matrix: (22640, 2000)\n",
      "(Number of Reviews, Number of Features/Words)\n"
     ]
    }
   ],
   "source": [
    "# Text Feature Engineering(TF-IDF)\n",
    "from sklearn.feature_extraction.text import TfidfVectorizer\n",
    "\n",
    "# Initialize the TF-IDF Vectorizer\n",
    "# We set max_features to 2000 to keep only the 2000 most important words.\n",
    "# This helps prevent having too many features and focuses on the most relevant terms.\n",
    "tfidf_vectorizer = TfidfVectorizer(max_features=2000, ngram_range=(1, 2))\n",
    "\n",
    "# Fit and transform the processed text to create the TF-IDF matrix\n",
    "# This matrix shows the TF-IDF score for each word in each review.\n",
    "tfidf_features = tfidf_vectorizer.fit_transform(df['processed_text'])\n",
    "\n",
    "print(\"TF-IDF matrix created successfully.\")\n",
    "print(f\"Shape of the TF-IDF matrix: {tfidf_features.shape}\")\n",
    "print(\"(Number of Reviews, Number of Features/Words)\")"
   ]
  },
  {
   "cell_type": "code",
   "execution_count": 12,
   "id": "708458f4",
   "metadata": {},
   "outputs": [
    {
     "name": "stdout",
     "output_type": "stream",
     "text": [
      "Embeddings generated successfully.\n",
      "\n",
      "Review: \"I absolutely love this dress, the fit is perfect.\"\n",
      "Embedding vector (first 5 dimensions): [-0.07150583  0.0575218   0.04822309  0.00103815  0.00325797]\n",
      "Vector shape: (384,)\n",
      "\n",
      "Review: \"The material feels cheap and it runs very small.\"\n",
      "Embedding vector (first 5 dimensions): [0.01700815 0.10258918 0.07854453 0.05567068 0.08369955]\n",
      "Vector shape: (384,)\n",
      "\n",
      "Review: \"This is a gorgeous sweater, great for the holidays.\"\n",
      "Embedding vector (first 5 dimensions): [-0.05428592  0.09624016  0.01701159  0.02631087  0.04167225]\n",
      "Vector shape: (384,)\n",
      "\n"
     ]
    }
   ],
   "source": [
    "#Text Feature Engineering(Embeddings)\n",
    "\n",
    "# Load a pre-trained model. 'all-MiniLM-L6-v2' is a great, fast, all-purpose model.\n",
    "from sentence_transformers import SentenceTransformer\n",
    "\n",
    "\n",
    "embedding_model = SentenceTransformer('all-MiniLM-L6-v2')\n",
    "\n",
    "# Let's create embeddings for a few sample reviews\n",
    "sample_reviews = [\n",
    "    \"I absolutely love this dress, the fit is perfect.\",\n",
    "    \"The material feels cheap and it runs very small.\",\n",
    "    \"This is a gorgeous sweater, great for the holidays.\"\n",
    "]\n",
    "\n",
    "# Generate the embeddings\n",
    "sentence_embeddings = embedding_model.encode(sample_reviews)\n",
    "\n",
    "print(\"Embeddings generated successfully.\\n\")\n",
    "for review, embedding in zip(sample_reviews, sentence_embeddings):\n",
    "    print(f\"Review: \\\"{review}\\\"\")\n",
    "    # We print the first 5 numbers of the vector for brevity\n",
    "    print(f\"Embedding vector (first 5 dimensions): {embedding[:5]}\")\n",
    "    print(f\"Vector shape: {embedding.shape}\\n\") # This shows it's a dense vector"
   ]
  },
  {
   "cell_type": "code",
   "execution_count": 13,
   "id": "ad572a70",
   "metadata": {},
   "outputs": [
    {
     "name": "stdout",
     "output_type": "stream",
     "text": [
      "Processed dataset saved to: Data/Processed/Womens_Clothing_E-Commerce_Reviews_Processed.csv\n"
     ]
    }
   ],
   "source": [
    "processed_path = 'Data/Processed/Womens_Clothing_E-Commerce_Reviews_Processed.csv'\n",
    "df.to_csv(processed_path, index=False)\n",
    "print(f\"Processed dataset saved to: {processed_path}\")"
   ]
  }
 ],
 "metadata": {
  "kernelspec": {
   "display_name": "Python 3",
   "language": "python",
   "name": "python3"
  },
  "language_info": {
   "codemirror_mode": {
    "name": "ipython",
    "version": 3
   },
   "file_extension": ".py",
   "mimetype": "text/x-python",
   "name": "python",
   "nbconvert_exporter": "python",
   "pygments_lexer": "ipython3",
   "version": "3.9.6"
  }
 },
 "nbformat": 4,
 "nbformat_minor": 5
}
