{
 "cells": [
  {
   "cell_type": "code",
   "execution_count": null,
   "id": "d9df4eea",
   "metadata": {},
   "outputs": [],
   "source": [
    "# ...existing code...\n",
    "import os\n",
    "import pandas as pd\n",
    "from sklearn.model_selection import train_test_split\n",
    "from sklearn.feature_extraction.text import TfidfVectorizer\n",
    "\n",
    "processed_path = 'Data/Processed/Womens_Clothing_E-Commerce_Reviews_Processed.csv'\n",
    "if os.path.exists(processed_path):\n",
    "    df = pd.read_csv(processed_path)\n",
    "    print(\"Loaded processed dataset.\")\n",
    "    print(f\"Shape: {df.shape}\")\n",
    "    display(df.head())\n",
    "else:\n",
    "    raise FileNotFoundError(f\"File not found: {processed_path}\")\n",
    "\n",
    "# Use processed text and sentiment label (adjust if your label column differs)\n",
    "X_text = df['processed_text'].fillna('')\n",
    "y = df['Sentiment']\n",
    "\n",
    "# Split into train and test (different variables as requested)\n",
    "X_train_text, X_test_text, y_train, y_test = train_test_split(\n",
    "    X_text, y, test_size=0.2, stratify=y, random_state=42\n",
    ")\n",
    "\n",
    "# Convert text to TF-IDF features — fit only on training text to avoid leakage\n",
    "tfidf_vectorizer = TfidfVectorizer(max_features=2000, ngram_range=(1, 2))\n",
    "X_train_tfidf = tfidf_vectorizer.fit_transform(X_train_text)\n",
    "X_test_tfidf = tfidf_vectorizer.transform(X_test_text)\n",
    "\n",
    "print(f\"X_train_tfidf shape: {X_train_tfidf.shape}\")\n",
    "print(f\"X_test_tfidf shape:  {X_test_tfidf.shape}\")\n",
    "print(f\"y_train shape: {y_train.shape}, y_test shape: {y_test.shape}\")\n",
    "# ...existing"
   ]
  }
 ],
 "metadata": {
  "language_info": {
   "name": "python"
  }
 },
 "nbformat": 4,
 "nbformat_minor": 5
}
